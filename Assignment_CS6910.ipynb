{
 "cells": [
  {
   "cell_type": "code",
   "execution_count": 20,
   "id": "60af690a",
   "metadata": {},
   "outputs": [],
   "source": [
    "\n",
    "import numpy as np\n",
    "import matplotlib.pyplot as plt\n",
    "import matplotlib.colors\n",
    "from keras.datasets import fashion_mnist\n",
    "import pandas as pd\n",
    "from sklearn.model_selection import train_test_split\n",
    "from sklearn.metrics import accuracy_score, mean_squared_error\n",
    "from tqdm import tqdm_notebook \n",
    "\n",
    "from sklearn.preprocessing import OneHotEncoder\n",
    "from sklearn.datasets import make_blobs"
   ]
  },
  {
   "cell_type": "code",
   "execution_count": 22,
   "id": "942132c1",
   "metadata": {},
   "outputs": [
    {
     "name": "stdout",
     "output_type": "stream",
     "text": [
      "Requirement already satisfied: keras in c:\\users\\susmi\\anaconda3\\lib\\site-packages (2.11.0)\n",
      "Note: you may need to restart the kernel to use updated packages.\n"
     ]
    }
   ],
   "source": [
    "pip install keras"
   ]
  },
  {
   "cell_type": "code",
   "execution_count": 6,
   "id": "43996e7b",
   "metadata": {},
   "outputs": [
    {
     "name": "stdout",
     "output_type": "stream",
     "text": [
      "Requirement already satisfied: tensorflow in c:\\users\\susmi\\anaconda3\\lib\\site-packages (2.11.0)\n",
      "Requirement already satisfied: tensorflow-intel==2.11.0 in c:\\users\\susmi\\anaconda3\\lib\\site-packages (from tensorflow) (2.11.0)\n",
      "Requirement already satisfied: tensorflow-io-gcs-filesystem>=0.23.1 in c:\\users\\susmi\\anaconda3\\lib\\site-packages (from tensorflow-intel==2.11.0->tensorflow) (0.30.0)\n",
      "Requirement already satisfied: wrapt>=1.11.0 in c:\\users\\susmi\\anaconda3\\lib\\site-packages (from tensorflow-intel==2.11.0->tensorflow) (1.12.1)\n",
      "Requirement already satisfied: h5py>=2.9.0 in c:\\users\\susmi\\anaconda3\\lib\\site-packages (from tensorflow-intel==2.11.0->tensorflow) (3.6.0)\n",
      "Requirement already satisfied: typing-extensions>=3.6.6 in c:\\users\\susmi\\anaconda3\\lib\\site-packages (from tensorflow-intel==2.11.0->tensorflow) (4.1.1)\n",
      "Requirement already satisfied: protobuf<3.20,>=3.9.2 in c:\\users\\susmi\\anaconda3\\lib\\site-packages (from tensorflow-intel==2.11.0->tensorflow) (3.19.1)\n",
      "Requirement already satisfied: absl-py>=1.0.0 in c:\\users\\susmi\\anaconda3\\lib\\site-packages (from tensorflow-intel==2.11.0->tensorflow) (1.4.0)\n",
      "Requirement already satisfied: setuptools in c:\\users\\susmi\\anaconda3\\lib\\site-packages (from tensorflow-intel==2.11.0->tensorflow) (61.2.0)\n",
      "Requirement already satisfied: opt-einsum>=2.3.2 in c:\\users\\susmi\\anaconda3\\lib\\site-packages (from tensorflow-intel==2.11.0->tensorflow) (3.3.0)\n",
      "Requirement already satisfied: tensorboard<2.12,>=2.11 in c:\\users\\susmi\\anaconda3\\lib\\site-packages (from tensorflow-intel==2.11.0->tensorflow) (2.11.2)\n",
      "Requirement already satisfied: flatbuffers>=2.0 in c:\\users\\susmi\\anaconda3\\lib\\site-packages (from tensorflow-intel==2.11.0->tensorflow) (23.1.21)\n",
      "Requirement already satisfied: tensorflow-estimator<2.12,>=2.11.0 in c:\\users\\susmi\\anaconda3\\lib\\site-packages (from tensorflow-intel==2.11.0->tensorflow) (2.11.0)\n",
      "Requirement already satisfied: termcolor>=1.1.0 in c:\\users\\susmi\\anaconda3\\lib\\site-packages (from tensorflow-intel==2.11.0->tensorflow) (2.2.0)\n",
      "Requirement already satisfied: numpy>=1.20 in c:\\users\\susmi\\anaconda3\\lib\\site-packages (from tensorflow-intel==2.11.0->tensorflow) (1.21.5)\n",
      "Requirement already satisfied: astunparse>=1.6.0 in c:\\users\\susmi\\anaconda3\\lib\\site-packages (from tensorflow-intel==2.11.0->tensorflow) (1.6.3)\n",
      "Requirement already satisfied: google-pasta>=0.1.1 in c:\\users\\susmi\\anaconda3\\lib\\site-packages (from tensorflow-intel==2.11.0->tensorflow) (0.2.0)\n",
      "Requirement already satisfied: six>=1.12.0 in c:\\users\\susmi\\anaconda3\\lib\\site-packages (from tensorflow-intel==2.11.0->tensorflow) (1.16.0)\n",
      "Requirement already satisfied: gast<=0.4.0,>=0.2.1 in c:\\users\\susmi\\anaconda3\\lib\\site-packages (from tensorflow-intel==2.11.0->tensorflow) (0.4.0)\n",
      "Requirement already satisfied: grpcio<2.0,>=1.24.3 in c:\\users\\susmi\\anaconda3\\lib\\site-packages (from tensorflow-intel==2.11.0->tensorflow) (1.42.0)\n",
      "Requirement already satisfied: packaging in c:\\users\\susmi\\anaconda3\\lib\\site-packages (from tensorflow-intel==2.11.0->tensorflow) (21.3)\n",
      "Requirement already satisfied: libclang>=13.0.0 in c:\\users\\susmi\\anaconda3\\lib\\site-packages (from tensorflow-intel==2.11.0->tensorflow) (15.0.6.1)\n",
      "Requirement already satisfied: keras<2.12,>=2.11.0 in c:\\users\\susmi\\anaconda3\\lib\\site-packages (from tensorflow-intel==2.11.0->tensorflow) (2.11.0)\n",
      "Requirement already satisfied: wheel<1.0,>=0.23.0 in c:\\users\\susmi\\anaconda3\\lib\\site-packages (from astunparse>=1.6.0->tensorflow-intel==2.11.0->tensorflow) (0.37.1)\n",
      "Requirement already satisfied: tensorboard-plugin-wit>=1.6.0 in c:\\users\\susmi\\anaconda3\\lib\\site-packages (from tensorboard<2.12,>=2.11->tensorflow-intel==2.11.0->tensorflow) (1.8.1)\n",
      "Requirement already satisfied: werkzeug>=1.0.1 in c:\\users\\susmi\\anaconda3\\lib\\site-packages (from tensorboard<2.12,>=2.11->tensorflow-intel==2.11.0->tensorflow) (2.0.3)\n",
      "Requirement already satisfied: tensorboard-data-server<0.7.0,>=0.6.0 in c:\\users\\susmi\\anaconda3\\lib\\site-packages (from tensorboard<2.12,>=2.11->tensorflow-intel==2.11.0->tensorflow) (0.6.1)\n",
      "Requirement already satisfied: requests<3,>=2.21.0 in c:\\users\\susmi\\anaconda3\\lib\\site-packages (from tensorboard<2.12,>=2.11->tensorflow-intel==2.11.0->tensorflow) (2.27.1)\n",
      "Requirement already satisfied: markdown>=2.6.8 in c:\\users\\susmi\\anaconda3\\lib\\site-packages (from tensorboard<2.12,>=2.11->tensorflow-intel==2.11.0->tensorflow) (3.3.4)\n",
      "Requirement already satisfied: google-auth<3,>=1.6.3 in c:\\users\\susmi\\anaconda3\\lib\\site-packages (from tensorboard<2.12,>=2.11->tensorflow-intel==2.11.0->tensorflow) (1.33.0)\n",
      "Note: you may need to restart the kernel to use updated packages.\n",
      "Requirement already satisfied: google-auth-oauthlib<0.5,>=0.4.1 in c:\\users\\susmi\\anaconda3\\lib\\site-packages (from tensorboard<2.12,>=2.11->tensorflow-intel==2.11.0->tensorflow) (0.4.6)\n",
      "Requirement already satisfied: cachetools<5.0,>=2.0.0 in c:\\users\\susmi\\anaconda3\\lib\\site-packages (from google-auth<3,>=1.6.3->tensorboard<2.12,>=2.11->tensorflow-intel==2.11.0->tensorflow) (4.2.2)\n",
      "Requirement already satisfied: pyasn1-modules>=0.2.1 in c:\\users\\susmi\\anaconda3\\lib\\site-packages (from google-auth<3,>=1.6.3->tensorboard<2.12,>=2.11->tensorflow-intel==2.11.0->tensorflow) (0.2.8)\n",
      "Requirement already satisfied: rsa<5,>=3.1.4 in c:\\users\\susmi\\anaconda3\\lib\\site-packages (from google-auth<3,>=1.6.3->tensorboard<2.12,>=2.11->tensorflow-intel==2.11.0->tensorflow) (4.7.2)\n",
      "Requirement already satisfied: requests-oauthlib>=0.7.0 in c:\\users\\susmi\\anaconda3\\lib\\site-packages (from google-auth-oauthlib<0.5,>=0.4.1->tensorboard<2.12,>=2.11->tensorflow-intel==2.11.0->tensorflow) (1.3.1)\n",
      "Requirement already satisfied: pyasn1<0.5.0,>=0.4.6 in c:\\users\\susmi\\anaconda3\\lib\\site-packages (from pyasn1-modules>=0.2.1->google-auth<3,>=1.6.3->tensorboard<2.12,>=2.11->tensorflow-intel==2.11.0->tensorflow) (0.4.8)\n",
      "Requirement already satisfied: certifi>=2017.4.17 in c:\\users\\susmi\\anaconda3\\lib\\site-packages (from requests<3,>=2.21.0->tensorboard<2.12,>=2.11->tensorflow-intel==2.11.0->tensorflow) (2021.10.8)\n",
      "Requirement already satisfied: charset-normalizer~=2.0.0 in c:\\users\\susmi\\anaconda3\\lib\\site-packages (from requests<3,>=2.21.0->tensorboard<2.12,>=2.11->tensorflow-intel==2.11.0->tensorflow) (2.0.4)\n",
      "Requirement already satisfied: idna<4,>=2.5 in c:\\users\\susmi\\anaconda3\\lib\\site-packages (from requests<3,>=2.21.0->tensorboard<2.12,>=2.11->tensorflow-intel==2.11.0->tensorflow) (3.3)\n",
      "Requirement already satisfied: urllib3<1.27,>=1.21.1 in c:\\users\\susmi\\anaconda3\\lib\\site-packages (from requests<3,>=2.21.0->tensorboard<2.12,>=2.11->tensorflow-intel==2.11.0->tensorflow) (1.26.9)\n",
      "Requirement already satisfied: oauthlib>=3.0.0 in c:\\users\\susmi\\anaconda3\\lib\\site-packages (from requests-oauthlib>=0.7.0->google-auth-oauthlib<0.5,>=0.4.1->tensorboard<2.12,>=2.11->tensorflow-intel==2.11.0->tensorflow) (3.2.2)\n",
      "Requirement already satisfied: pyparsing!=3.0.5,>=2.0.2 in c:\\users\\susmi\\anaconda3\\lib\\site-packages (from packaging->tensorflow-intel==2.11.0->tensorflow) (3.0.4)\n"
     ]
    }
   ],
   "source": [
    "pip install tensorflow"
   ]
  },
  {
   "cell_type": "code",
   "execution_count": 49,
   "id": "f0c17c20",
   "metadata": {},
   "outputs": [],
   "source": [
    "class FFSN_MultiClass:\n",
    "  \n",
    "  def __init__(self, n_inputs, n_outputs, hidden_sizes=[3]):\n",
    "    self.nx = n_inputs\n",
    "    self.ny = n_outputs\n",
    "    self.nh = len(hidden_sizes)\n",
    "    self.sizes = [self.nx] + hidden_sizes + [self.ny] \n",
    "\n",
    "    self.W = {}\n",
    "    self.B = {}\n",
    "    for i in range(self.nh+1):\n",
    "      self.W[i+1] = np.random.randn(self.sizes[i], self.sizes[i+1])\n",
    "      self.B[i+1] = np.zeros((1, self.sizes[i+1]))\n",
    "      \n",
    "  def sigmoid(self, x):\n",
    "   # x = np.float128(x)\n",
    "    return 1.0/(1.0 + np.exp(-x))\n",
    "  \n",
    "  def softmax(self, x):\n",
    "    exps = np.exp(x)\n",
    "    return exps / np.sum(exps)\n",
    "\n",
    "  def forward_pass(self, x):\n",
    "    self.A = {}\n",
    "    self.H = {}\n",
    "    self.H[0] = x.reshape(1, -1)\n",
    "    for i in range(self.nh):\n",
    "      self.A[i+1] = np.matmul(self.H[i], self.W[i+1]) + self.B[i+1]\n",
    "      self.H[i+1] = self.sigmoid(self.A[i+1])\n",
    "    self.A[self.nh+1] = np.matmul(self.H[self.nh], self.W[self.nh+1]) + self.B[self.nh+1]\n",
    "    self.H[self.nh+1] = self.softmax(self.A[self.nh+1])\n",
    "    return self.H[self.nh+1]\n",
    "  \n",
    "  def predict(self, X):\n",
    "    Y_pred = []\n",
    "    for x in X:\n",
    "      y_pred = self.forward_pass(x)\n",
    "      Y_pred.append(y_pred)\n",
    "    return np.array(Y_pred).squeeze()\n",
    " \n",
    "  def grad_sigmoid(self, x):\n",
    "    return x*(1-x) \n",
    "  \n",
    "  def cross_entropy(self,label,pred):\n",
    "    yl=np.multiply(pred,label)\n",
    "    yl=yl[yl!=0]\n",
    "    yl=-np.log(yl)\n",
    "    yl=np.mean(yl)\n",
    "    return yl\n",
    " \n",
    "  def grad(self, x, y):\n",
    "    self.forward_pass(x)\n",
    "    self.dW = {}\n",
    "    self.dB = {}\n",
    "    self.dH = {}\n",
    "    self.dA = {}\n",
    "    L = self.nh + 1\n",
    "    self.dA[L] = (self.H[L] - y)\n",
    "    for k in range(L, 0, -1):\n",
    "      self.dW[k] = np.matmul(self.H[k-1].T, self.dA[k])\n",
    "      self.dB[k] = self.dA[k]\n",
    "      self.dH[k-1] = np.matmul(self.dA[k], self.W[k].T)\n",
    "      self.dA[k-1] = np.multiply(self.dH[k-1], self.grad_sigmoid(self.H[k-1])) \n",
    "    \n",
    "  def fit(self, X, Y, epochs=100, initialize='True', learning_rate=0.01, display_loss=False):\n",
    "      \n",
    "    if display_loss:\n",
    "      loss = {}\n",
    "      \n",
    "    if initialize:\n",
    "      for i in range(self.nh+1):\n",
    "        self.W[i+1] = np.random.randn(self.sizes[i], self.sizes[i+1])\n",
    "        self.B[i+1] = np.zeros((1, self.sizes[i+1]))\n",
    "      \n",
    "    for epoch in tqdm_notebook(range(epochs), total=epochs, unit=\"epoch\"):\n",
    "      dW = {}\n",
    "      dB = {}\n",
    "       \n",
    "     \n",
    "        \n",
    "      for i in range(self.nh+1):\n",
    "        dW[i+1] = np.zeros((self.sizes[i], self.sizes[i+1]))\n",
    "        dB[i+1] = np.zeros((1, self.sizes[i+1]))\n",
    "      for x, y in zip(X, Y):\n",
    "        self.grad(x, y)\n",
    "        for i in range(self.nh+1):\n",
    "          dW[i+1] += self.dW[i+1]\n",
    "          dB[i+1] += self.dB[i+1]\n",
    "                 \n",
    "      m = X.shape[1]\n",
    "    \n",
    "      for i in range(self.nh+1):\n",
    "        \n",
    "        self.W[i+1] -= learning_rate * (dW[i+1]/m)\n",
    "        self.B[i+1] -= learning_rate * (dB[i+1]/m)\n",
    "        \n",
    "      if display_loss:\n",
    "        Y_pred = self.predict(X) \n",
    "        loss[epoch] = self.cross_entropy(Y, Y_pred)\n",
    "    \n",
    "    if display_loss:\n",
    "      plt.plot(np.array(list(loss.values())).astype(float))\n",
    "      plt.xlabel('Epochs')\n",
    "      plt.ylabel('CE')\n",
    "      plt.show()"
   ]
  },
  {
   "cell_type": "code",
   "execution_count": 48,
   "id": "3f53b363",
   "metadata": {},
   "outputs": [
    {
     "name": "stdout",
     "output_type": "stream",
     "text": [
      "(60000, 28, 28)\n",
      "(10000, 28, 28)\n"
     ]
    }
   ],
   "source": [
    "(X_train, Y_train), (X_test, Y_test) = fashion_mnist.load_data()\n",
    "train_data = np.array(X_train)\n",
    "X_train = train_data / 255.0\n",
    "test_data = np.array(X_test)\n",
    "X_test = test_data / 255.0\n",
    "print(train_data.shape)\n",
    "print(test_data.shape)\n",
    "\n",
    "\n",
    "#One hot encoding of the class labels\n",
    "encoder = OneHotEncoder()\n",
    "y_train = encoder.fit_transform(np.expand_dims(Y_train,1)).toarray()\n",
    "\n",
    "y_test = encoder.fit_transform(np.expand_dims(Y_test,1)).toarray()"
   ]
  },
  {
   "cell_type": "code",
   "execution_count": 46,
   "id": "ad208c39",
   "metadata": {},
   "outputs": [
    {
     "name": "stderr",
     "output_type": "stream",
     "text": [
      "C:\\Users\\susmi\\AppData\\Local\\Temp\\ipykernel_1648\\997872746.py:75: TqdmDeprecationWarning: This function will be removed in tqdm==5.0.0\n",
      "Please use `tqdm.notebook.tqdm` instead of `tqdm.tqdm_notebook`\n",
      "  for epoch in tqdm_notebook(range(epochs), total=epochs, unit=\"epoch\"):\n"
     ]
    },
    {
     "data": {
      "application/vnd.jupyter.widget-view+json": {
       "model_id": "5fec921241144e55b5914aeb5d9b731d",
       "version_major": 2,
       "version_minor": 0
      },
      "text/plain": [
       "  0%|          | 0/50 [00:00<?, ?epoch/s]"
      ]
     },
     "metadata": {},
     "output_type": "display_data"
    },
    {
     "data": {
      "image/png": "[encoded data removed]",
      "text/plain": [
       "<Figure size 432x288 with 1 Axes>"
      ]
     },
     "metadata": {
      "needs_background": "light"
     },
     "output_type": "display_data"
    }
   ],
   "source": [
    "ffsnn = FFSN_MultiClass(784,10, [32,32,32])\n",
    "enc = OneHotEncoder()\n",
    "# 0 -> (1, 0, 0, 0), 1 -> (0, 1, 0, 0), 2 -> (0, 0, 1, 0), 3 -> (0, 0, 0, 1)\n",
    "#OH_train = enc.fit_transform(np.expand_dims(Y_train,1)).toarray()\n",
    "\n",
    "ffsnn.fit(X_train, y_train, epochs=50, learning_rate=.001, display_loss=True)"
   ]
  },
  {
   "cell_type": "code",
   "execution_count": 47,
   "id": "4613581a",
   "metadata": {},
   "outputs": [
    {
     "name": "stdout",
     "output_type": "stream",
     "text": [
      "Training accuracy 0.59\n",
      "Validation accuracy 0.59\n"
     ]
    }
   ],
   "source": [
    "Y_pred_train = ffsnn.predict(X_train)\n",
    "Y_pred_train = np.argmax(Y_pred_train,1)\n",
    "\n",
    "Y_pred_val = ffsnn.predict(X_test)\n",
    "Y_pred_val = np.argmax(Y_pred_val,1)\n",
    "\n",
    "accuracy_train = accuracy_score(Y_pred_train, Y_train)\n",
    "accuracy_val = accuracy_score(Y_pred_val, Y_test)\n",
    "\n",
    "print(\"Training accuracy\", round(accuracy_train, 2))\n",
    "print(\"Validation accuracy\", round(accuracy_val, 2))"
   ]
  },
  {
   "cell_type": "code",
   "execution_count": 18,
   "id": "0042577b",
   "metadata": {},
   "outputs": [
    {
     "name": "stdout",
     "output_type": "stream",
     "text": [
      "[0. 0. 0. 0.]\n",
      "[2. 2. 2. 2.]\n"
     ]
    }
   ],
   "source": [
    "past_value_w = np.copy(dW[i+1])\n",
    "past_value_b = np.copy(dB[i+1])\n",
    "past_value_w.fill(0)\n",
    "past_value_b.fill(0)\n",
    "temp_w = self.W[i+1] - gamma * past_value_w\n",
    "self.W[i+1] = temp-w - learning_rate * (dW[i+1]/m)\n",
    "past_value_w = gamma * past_value_w + learning_rate *  "
   ]
  },
  {
   "cell_type": "code",
   "execution_count": 8,
   "id": "97ea7ee1",
   "metadata": {},
   "outputs": [
    {
     "name": "stdout",
     "output_type": "stream",
     "text": [
      "[[2. 3. 4.]\n",
      " [6. 7. 8.]]\n"
     ]
    }
   ],
   "source": [
    "import numpy as np\n",
    "a = np.array([[1,4,9],[25,36,49]])\n",
    "epsilon = 1\n",
    "print(a ** 0.5 + epsilon)"
   ]
  },
  {
   "cell_type": "code",
   "execution_count": 16,
   "id": "6b5b3f0f",
   "metadata": {},
   "outputs": [
    {
     "name": "stdout",
     "output_type": "stream",
     "text": [
      "[1, 2, 3, 4, 4]\n"
     ]
    }
   ],
   "source": [
    "a = [1,2,3,4]\n",
    "b =a + [4]\n",
    "print(b)"
   ]
  }
 ],
 "metadata": {
  "kernelspec": {
   "display_name": "Python 3 (ipykernel)",
   "language": "python",
   "name": "python3"
  },
  "language_info": {
   "codemirror_mode": {
    "name": "ipython",
    "version": 3
   },
   "file_extension": ".py",
   "mimetype": "text/x-python",
   "name": "python",
   "nbconvert_exporter": "python",
   "pygments_lexer": "ipython3",
   "version": "3.9.12"
  }
 },
 "nbformat": 4,
 "nbformat_minor": 5
}
