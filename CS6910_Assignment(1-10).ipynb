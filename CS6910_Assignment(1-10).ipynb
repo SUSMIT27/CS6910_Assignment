{
 "cells": [
  {
   "cell_type": "code",
   "execution_count": 11,
   "id": "cff55c0d",
   "metadata": {},
   "outputs": [],
   "source": [
    "import numpy as np\n",
    "import matplotlib.pyplot as plt\n",
    "import matplotlib.colors\n",
    "from keras.datasets import fashion_mnist\n",
    "from keras.datasets import mnist\n",
    "import pandas as pd\n",
    "from sklearn.model_selection import train_test_split\n",
    "from sklearn.metrics import accuracy_score, mean_squared_error\n",
    "from tqdm import tqdm_notebook \n",
    "from sklearn.preprocessing import OneHotEncoder\n",
    "from sklearn.datasets import make_blobs\n",
    "import wandb\n",
    "from sklearn.metrics import mean_squared_error"
   ]
  },
  {
   "cell_type": "code",
   "execution_count": 1,
   "id": "c764f5e9",
   "metadata": {},
   "outputs": [
    {
     "name": "stdout",
     "output_type": "stream",
     "text": [
      "Requirement already satisfied: wandb in c:\\users\\susmi\\anaconda3\\lib\\site-packages (0.13.10)\n",
      "Requirement already satisfied: pathtools in c:\\users\\susmi\\anaconda3\\lib\\site-packages (from wandb) (0.1.2)\n",
      "Requirement already satisfied: typing-extensions in c:\\users\\susmi\\anaconda3\\lib\\site-packages (from wandb) (4.1.1)\n",
      "Requirement already satisfied: setuptools in c:\\users\\susmi\\anaconda3\\lib\\site-packages (from wandb) (61.2.0)\n",
      "Requirement already satisfied: requests<3,>=2.0.0 in c:\\users\\susmi\\anaconda3\\lib\\site-packages (from wandb) (2.27.1)\n",
      "Requirement already satisfied: sentry-sdk>=1.0.0 in c:\\users\\susmi\\anaconda3\\lib\\site-packages (from wandb) (1.16.0)\n",
      "Requirement already satisfied: psutil>=5.0.0 in c:\\users\\susmi\\anaconda3\\lib\\site-packages (from wandb) (5.8.0)\n",
      "Requirement already satisfied: docker-pycreds>=0.4.0 in c:\\users\\susmi\\anaconda3\\lib\\site-packages (from wandb) (0.4.0)\n",
      "Requirement already satisfied: appdirs>=1.4.3 in c:\\users\\susmi\\anaconda3\\lib\\site-packages (from wandb) (1.4.4)\n",
      "Requirement already satisfied: protobuf!=4.21.0,<5,>=3.19.0 in c:\\users\\susmi\\anaconda3\\lib\\site-packages (from wandb) (3.19.1)\n",
      "Requirement already satisfied: GitPython>=1.0.0 in c:\\users\\susmi\\anaconda3\\lib\\site-packages (from wandb) (3.1.31)\n",
      "Requirement already satisfied: Click!=8.0.0,>=7.0 in c:\\users\\susmi\\anaconda3\\lib\\site-packages (from wandb) (8.0.4)\n",
      "Requirement already satisfied: PyYAML in c:\\users\\susmi\\anaconda3\\lib\\site-packages (from wandb) (6.0)\n",
      "Requirement already satisfied: setproctitle in c:\\users\\susmi\\anaconda3\\lib\\site-packages (from wandb) (1.3.2)\n",
      "Requirement already satisfied: colorama in c:\\users\\susmi\\anaconda3\\lib\\site-packages (from Click!=8.0.0,>=7.0->wandb) (0.4.4)\n",
      "Requirement already satisfied: six>=1.4.0 in c:\\users\\susmi\\anaconda3\\lib\\site-packages (from docker-pycreds>=0.4.0->wandb) (1.16.0)\n",
      "Requirement already satisfied: gitdb<5,>=4.0.1 in c:\\users\\susmi\\anaconda3\\lib\\site-packages (from GitPython>=1.0.0->wandb) (4.0.10)\n",
      "Requirement already satisfied: smmap<6,>=3.0.1 in c:\\users\\susmi\\anaconda3\\lib\\site-packages (from gitdb<5,>=4.0.1->GitPython>=1.0.0->wandb) (5.0.0)\n",
      "Requirement already satisfied: charset-normalizer~=2.0.0 in c:\\users\\susmi\\anaconda3\\lib\\site-packages (from requests<3,>=2.0.0->wandb) (2.0.4)\n",
      "Requirement already satisfied: certifi>=2017.4.17 in c:\\users\\susmi\\anaconda3\\lib\\site-packages (from requests<3,>=2.0.0->wandb) (2021.10.8)\n",
      "Requirement already satisfied: idna<4,>=2.5 in c:\\users\\susmi\\anaconda3\\lib\\site-packages (from requests<3,>=2.0.0->wandb) (3.3)\n",
      "Requirement already satisfied: urllib3<1.27,>=1.21.1 in c:\\users\\susmi\\anaconda3\\lib\\site-packages (from requests<3,>=2.0.0->wandb) (1.26.14)\n"
     ]
    }
   ],
   "source": [
    "!pip install wandb"
   ]
  },
  {
   "cell_type": "code",
   "execution_count": 22,
   "id": "2fc2ee14",
   "metadata": {},
   "outputs": [],
   "source": [
    "class MultiClass_classification:\n",
    "  \n",
    "  def __init__(self,input_layer, hidden_sizes , output_layer):\n",
    "    \n",
    "    \n",
    "    self.sizes = [input_layer] + hidden_sizes + [output_layer] \n",
    "\n",
    "    self.W = {}\n",
    "    self.B = {}\n",
    "    self.no_hidden = len(hidden_sizes)\n",
    "    for i in range(self.no_hidden+1):\n",
    "      #self.W[i+1] = np.random.randn(self.sizes[i], self.sizes[i+1])\n",
    "      #self.B[i+1] = np.zeros((1, self.sizes[i+1]))\n",
    "      self.W[i+1] =  np.random.uniform(-1,1,(self.sizes[i], self.sizes[i+1]))\n",
    "      #self.W[i+1] = np.random.randn(self.sizes[i], self.sizes[i+1])\n",
    "      self.B[i+1] = np.random.normal(-1,1,(1,self.sizes[i+1]))  \n",
    "      #self.B[i+1] = np.zeros((1, self.sizes[i+1]))  \n",
    "      \n",
    "  def sigmoid(self, x):\n",
    "    return 1.0/(1.0 + np.exp(-x))\n",
    "\n",
    "  def relu(self, x):\n",
    "   return np.maximum(0, x)\n",
    "\n",
    "  def tanh(self, x):\n",
    "    return np.tanh(x)\n",
    "\n",
    "  def grad_sigmoid(self, x):\n",
    "    return x*(1-x) \n",
    "\n",
    "  def grad_relu(self, x):\n",
    "    return 1.0*(x>0)\n",
    "    \n",
    "  def grad_tanh(self, x):\n",
    "    return 1 - np.power(np.tanh(x),2)\n",
    "\n",
    "  def softmax(self, x):\n",
    "    #print(x)\n",
    "    exps = np.exp(x)\n",
    "    return exps /  np.maximum ( 0.01 , np.sum(exps) )\n",
    "  def set_activation(self):\n",
    "    mapping = {}\n",
    "    self.A = {}\n",
    "    mapping[\"D_A\"] = []\n",
    "    mapping[\"D_H\"] = []\n",
    "    self.H = {}   \n",
    "  def forward_pass(self, x):\n",
    "    self.set_activation()\n",
    "    self.H[0] = x.reshape(1, -1)\n",
    "    for i in range(self.no_hidden):\n",
    "      temp_H =  self.H[i] \n",
    "      temp_W =  self.W[i+1] \n",
    "      temp_B =  self.B[i+1] \n",
    "      self.A[i+1] = np.matmul(temp_H, temp_W) + temp_B\n",
    "      if self.activation_function == \"sigmoid\":\n",
    "          self.H[i+1] = self.sigmoid(self.A[i+1])\n",
    "      if self.activation_function == \"relu\":  \n",
    "          #print(\"relu_2\") \n",
    "          self.H[i+1] = self.relu(self.A[i+1])\n",
    "      if self.activation_function == \"tanh\":\n",
    "          #print(\"tanh\")\n",
    "          self.H[i+1] = self.tanh(self.A[i+1])\n",
    "    temp_H = self.H[self.no_hidden] \n",
    "    temp_W =self.W[self.no_hidden+1]\n",
    "    temp_B = self.B[self.no_hidden+1]\n",
    "    self.A[self.no_hidden+1] = np.matmul(temp_H, temp_W) + temp_B\n",
    "    self.H[self.no_hidden+1] = self.softmax(self.A[self.no_hidden+1] - np.max(self.A[self.no_hidden+1]))\n",
    "    #x - np.max(x)\n",
    "    return self.H[self.no_hidden+1]\n",
    "  \n",
    "  def predict(self, X):\n",
    "    X_data = X\n",
    "    z =  X_data.shape[1]\n",
    "    Y_pred = []\n",
    "    for x in X:\n",
    "      Y_pred.append(self.forward_pass(x))\n",
    "    predict = Y_pred\n",
    "    return np.array(predict).squeeze()\n",
    " \n",
    "  \"\"\"    Question 8     \"\"\"\n",
    "  def square_error_loss(self,label,pred):\n",
    "    #print(\"mse\")\n",
    "    temp = np.power((label - pred),2)\n",
    "    temp1 = np.sum(temp)\n",
    "    mse=np.mean(temp1)\n",
    "    return mse\n",
    "  def cross_entropy(self,label,pred):\n",
    "    loss=np.multiply(pred,label)\n",
    "    ans = loss\n",
    "    loss=loss[loss!=0]\n",
    "    temp = 0\n",
    "    \n",
    "    \n",
    "    \n",
    "    loss=np.mean(-np.log(loss))\n",
    "    \n",
    "    return loss\n",
    "  def derivates(self):\n",
    "    mapping= {}\n",
    "    self.dW = {}\n",
    "    mapping[\"D_W\"] = []\n",
    "    self.dB = {}\n",
    "    mapping[\"D_B\"] = []\n",
    "    self.dH = {}\n",
    "    mapping[\"D_H\"] = []\n",
    "    self.dA = {}\n",
    "    mapping[\"D_A\"] = []\n",
    "    \n",
    "  \"\"\"    Question 3     \"\"\"  \n",
    "    \n",
    "  def grad(self, x, y):\n",
    "    self.forward_pass(x) \n",
    "    self.derivates()\n",
    "    if(self.type_of_loss == \"cross_entropy\"):\n",
    "        self.dA[self.no_hidden + 1] = (self.H[self.no_hidden + 1] - y)\n",
    "    else:\n",
    "       #delA.append(np.array((y_hat - ey)(y_hat - y_hat*2)))\n",
    "       #print(\"yes\")\n",
    "       self.dA[self.no_hidden + 1] = (self.H[self.no_hidden + 1] - y)*(self.H[self.no_hidden + 1] - self.H[self.no_hidden + 1]**2)\n",
    "    Layer = self.no_hidden + 1\n",
    "    for k in range(Layer, 0, -1):\n",
    "      self.dB[k] = self.dA[k]\n",
    "      temp = self.H[k-1].T\n",
    "      self.dW[k] = np.matmul(temp, self.dA[k])\n",
    "      temp = self.W[k].T\n",
    "      self.dH[k-1] = np.matmul(self.dA[k], temp)\n",
    "      if self.activation_function == \"sigmoid\":\n",
    "        temp = self.grad_sigmoid(self.H[k-1])\n",
    "      if self.activation_function == \"relu\":\n",
    "        #print(\"relu_1\")\n",
    "        temp = self.grad_relu(self.H[k-1])\n",
    "      if self.activation_function == \"tanh\":\n",
    "        #print(\"tanh\")\n",
    "        temp = self.grad_tanh(self.H[k-1])  \n",
    "      self.dA[k-1] = np.multiply(self.dH[k-1], temp ) \n",
    "    \n",
    "  def fit(self, X, Y, epochs=100, initialize='True', learning_rate=0.01, display_loss=False,batch_size = 512 , batch = 'b',algorithm = \"gd\",gamma = 0.09,act_func = \"sigmoid\",intialize_method = \"random\",loss_type = \"cross_entropy\",l2_norm = True,lambda_value = 500):\n",
    "    Layer = self.no_hidden+1  \n",
    "    self.activation_function = act_func\n",
    "    self.type_of_loss = loss_type\n",
    "    #for i in range(0,Layer,1):\n",
    "     #   self.W[i+1] = np.random.randn(self.sizes[i], self.sizes[i+1])\n",
    "     #   self.B[i+1] = np.zeros((1, self.sizes[i+1]))\n",
    "    if(intialize_method == \"random\"):\n",
    "        for i in range(Layer):\n",
    "\n",
    "          self.W[i+1] =  np.random.uniform(-1,1,(self.sizes[i], self.sizes[i+1]))\n",
    "          self.B[i+1] = np.random.normal(-1,1,(1,self.sizes[i+1]))\n",
    "    he = 1\n",
    "    if(intialize_method == \"xavier\"):\n",
    "        if(act_func == \"relu\"):\n",
    "            he = 2\n",
    "        for i in range(Layer):\n",
    "\n",
    "          self.W[i+1] =  np.random.uniform(-1,1,(self.sizes[i], self.sizes[i+1]))*np.sqrt(he/self.sizes[i-1])\n",
    "     \n",
    "          self.B[i+1] = np.random.normal(-1,1,(1,self.sizes[i+1]))\n",
    "      \n",
    "    loss = {}  \n",
    "    for epoch in tqdm_notebook(range(epochs), total=epochs, unit=\"epoch\"):\n",
    "      dW = {}\n",
    "      number_of_layer = self.no_hidden+1\n",
    "      for i in range(0,number_of_layer,1):\n",
    "        dW[i+1] = np.zeros((self.sizes[i], self.sizes[i+1]))\n",
    "      self.derviative_of_w = []\n",
    " \n",
    "      dB = {}\n",
    "      for i in range(0,number_of_layer,1):\n",
    "        dB[i+1] = np.zeros((1, self.sizes[i+1]))\n",
    "      self.derviative_of_b = []   \n",
    "      v_w = {}\n",
    "      v_b = {}\n",
    "      self.v_w_hat = {}\n",
    "      self.v_b_hat = {}\n",
    "      self.m_w = {}\n",
    "      self.m_b = {}\n",
    "      self.m_w_hat = {}\n",
    "      self.m_b_hat = {}\n",
    "      for i in range(self.no_hidden+1):\n",
    "        v_w[i+1] = np.zeros((self.sizes[i], self.sizes[i+1]))\n",
    "        v_b[i+1] = np.zeros((1, self.sizes[i+1]))\n",
    "        self.m_w[i+1] = np.zeros((self.sizes[i], self.sizes[i+1]))\n",
    "        self.m_b[i+1] = np.zeros((1, self.sizes[i+1]))\n",
    "        self.v_w_hat[i+1] = np.zeros((self.sizes[i], self.sizes[i+1]))\n",
    "        self.v_b_hat[i+1] = np.zeros((1, self.sizes[i+1]))\n",
    "        self.m_w_hat[i+1] = np.zeros((self.sizes[i], self.sizes[i+1]))\n",
    "        self.m_b_hat[i+1] = np.zeros((1, self.sizes[i+1]))\n",
    "      if algorithm == \"NAG\":\n",
    "        print(\"did early work\")\n",
    "        for i in range(self.no_hidden+1):\n",
    "            self.W[i+1] -= gamma * v_w[i+1]\n",
    "            self.B[i+1] -= gamma * v_b[i+1]\n",
    "      if(batch == 'b'):\n",
    "          #print(\"b\")\n",
    "          learn_number = learning_rate   \n",
    "          for x, y in zip(X, Y):\n",
    "            Layer = self.no_hidden+1\n",
    "            self.grad(x, y)\n",
    "            for i in range(0,Layer,1):\n",
    "              dW[i+1] = dW[i+1] +self.dW[i+1]     \n",
    "              dB[i+1] = dB[i+1] +self.dB[i+1] \n",
    "\n",
    "          m = X.shape[1]\n",
    "          v_w,v_b = self.optimizer(dW,dB,m,v_w,v_b,algo = algorithm,learning_rate = learn_number)\n",
    "          \"\"\"\n",
    "          for i in range(self.no_hidden+1):\n",
    "            temp = learning_rate * (dW[i+1]/m)\n",
    "            self.W[i+1] =self.W[i+1] -  temp\n",
    "            temp = learning_rate * (dB[i+1]/m)\n",
    "            self.B[i+1] =self.B[i+1] - temp\n",
    "          \"\"\"  \n",
    "            \n",
    "        \n",
    "      if(batch == 's'):\n",
    "          m = X.shape[1]\n",
    "          learn_number = learning_rate   \n",
    "          for x, y in zip(X, Y):\n",
    "            Layer = self.no_hidden+1\n",
    "            self.grad(x, y)\n",
    "            for i in range(0,Layer,1):\n",
    "              \n",
    "              dW[i+1] = self.dW[i+1]     \n",
    "              dB[i+1] = self.dB[i+1]\n",
    "              v_w,v_b = self.optimizer(dW,dB,m,v_w,v_b,algo = algorithm,learning_rate = learn_number)\n",
    "              \"\"\"\n",
    "              temp = learning_rate * (dW[i+1]/m)\n",
    "              self.W[i+1] =self.W[i+1] -  temp\n",
    "              temp = learning_rate * (dB[i+1]/m)\n",
    "              self.B[i+1] =self.B[i+1] - temp\n",
    "              \"\"\"\n",
    "                \n",
    "      \n",
    "      if(batch == \"m_B\"):\n",
    "          var = 0\n",
    "          learn_number = learning_rate \n",
    "          for x, y in zip(X, Y):\n",
    "            var+=1\n",
    "            self.grad(x, y)\n",
    "            m = X.shape[1]\n",
    "            data_size = m\n",
    "            for i in range(0,self.no_hidden+1,1):\n",
    "                \n",
    "              dW[i+1] =dW[i+1] + self.dW[i+1]\n",
    "              dB[i+1] =dB[i+1] + self.dB[i+1]\n",
    "              if(var%batch_size == 0)  :\n",
    "                  v_w,v_b = self.optimizer(dW,dB,m,v_w,v_b,algo = algorithm,learning_rate = learn_number)\n",
    "                  #self.W[i+1] -= learning_rate * (dW[i+1]/m)\n",
    "                  #self.B[i+1] -= learning_rate * (dB[i+1]/m)\n",
    "                  dW[i+1] = np.zeros((self.sizes[i], self.sizes[i+1]))\n",
    "                  dB[i+1] = np.zeros((1, self.sizes[i+1])) \n",
    "                    \n",
    "      m = X.shape[1]\n",
    "      flag = 0\n",
    "      if l2_norm == True:\n",
    "          if flag == 0:\n",
    "                print('Yes')\n",
    "                flag = 1\n",
    "          for i in range(self.no_hidden+1):\n",
    "             self.W[i+1] -=  ((learning_rate * (lambda_value)/m)* self.W[i+1])\n",
    "        \n",
    "        \n",
    "      if loss_type == \"cross_entropy\"  :    \n",
    "          loss[epoch] = self.cross_entropy(Y, self.predict(X))\n",
    "      if loss_type == \"square_error_loss\"  :    \n",
    "          loss[epoch] = self.square_error_loss(Y, self.predict(X))      \n",
    "      wandb.log({\"loss\": loss[epoch] , \"epoch\": epochs})\n",
    "    self.show_loss(loss)\n",
    "    # return \n",
    "    \n",
    "    \n",
    "  \"\"\"    Question 3     \"\"\"\n",
    "\n",
    "\n",
    "  def optimizer(self,dW,dB,m,v_w,v_b,algo = \"gd\",gamma = 0.9,learning_rate = 0.001,beta = 0.95,epsilon = 0.000000001):\n",
    "    #print(\"called\")\n",
    "    if(algo == \"gd\"):\n",
    "        print(\"gd\")\n",
    "        for i in range(self.no_hidden+1):\n",
    "           self.W[i+1] = self.W[i+1] - learning_rate * (dW[i+1]/m)\n",
    "           self.B[i+1] = self.B[i+1] - learning_rate * (dB[i+1]/m)\n",
    "        return v_w,v_b\n",
    "\n",
    "    if(algo == \"momentum\"):\n",
    "     \n",
    "        for i in range(self.no_hidden+1):\n",
    "             v_w[i+1] = gamma *v_w[i+1] + learning_rate * (dW[i+1]/m)\n",
    "             v_b[i+1] = gamma *v_b[i+1] + learning_rate * (dB[i+1]/m)\n",
    "             self.W[i+1] -= v_w[i+1]\n",
    "             self.B[i+1] -= v_b[i+1]\n",
    "        return v_w,v_b \n",
    "    if(algo == \"NAG\"):\n",
    "        for i in range(self.no_hidden+1):\n",
    "            self.W[i+1] -= learning_rate * (dW[i+1]/m)\n",
    "            self.B[i+1] -= learning_rate * (dB[i+1]/m)\n",
    "            v_w[i+1] = gamma * v_w[i+1] + learning_rate * (dW[i+1]/m)\n",
    "            v_b[i+1] = gamma * v_b[i+1] + learning_rate * (dB[i+1]/m)\n",
    "        return v_w,v_b\n",
    "    if(algo == \"RMSProp\"):\n",
    "        lr = learning_rate * 5\n",
    "        for i in range(self.no_hidden+1):\n",
    "            v_w[i+1] = (beta * v_w[i+1]) + ((1 - beta) * ((dW[i+1]/m) ** 2 ) )\n",
    "            v_b[i+1] = (beta * v_b[i+1]) + ((1 - beta) * ((dB[i+1]/m) ** 2 ))\n",
    "            self.W[i+1] -= (((lr)/((v_w[i+1] ** 0.5) + epsilon)) * (dW[i+1]/m))\n",
    "            self.B[i+1] -= (((lr)/((v_b[i+1] ** 0.5) + epsilon)) * (dB[i+1]/m))\n",
    "        return v_w,v_b\n",
    "    if(algo == \"Adam\"):\n",
    "        beta_1=0.9\n",
    "        beta_2=0.9\n",
    "        time = 0\n",
    "        lr = 0.8\n",
    "        for i in range(self.no_hidden+1):\n",
    "            time += 1\n",
    "            self.m_w[i+1] = beta_1 * self.m_w[i+1] + (1 - beta_1) * (dW[i+1]/m)\n",
    "            self.m_b[i+1] = beta_1 * self.m_b[i+1] + (1 - beta_1) * (dB[i+1]/m)\n",
    "            v_w[i+1] = beta_2 * v_w[i+1] + (1 - beta_2) * ((dW[i+1]/m) ** 2 ) \n",
    "            v_b[i+1] = beta_2 * v_b[i+1] + (1 - beta_2) * ((dB[i+1]/m) ** 2 )\n",
    "            self.m_w_hat[i+1] = self.m_w[i+1] / (1 - np.power(beta_1, time))\n",
    "            self.m_b_hat[i+1] = self.m_b[i+1] / (1 - np.power(beta_1, time))\n",
    "            self.v_w_hat[i+1] = v_w[i+1] / (1 - np.power(beta_2, time))\n",
    "            self.v_b_hat[i+1] = v_b[i+1] / (1 - np.power(beta_2, time))\n",
    "            self.W[i+1] -= ((lr)/((self.v_w_hat[i+1] ** 0.5) + epsilon) * (self.m_w_hat[i+1]/m))\n",
    "            self.B[i+1] -= ((lr)/((self.v_b_hat[i+1] ** 0.5) + epsilon ) * (self.m_b_hat[i+1]/m))\n",
    "            \n",
    "            \n",
    "        return v_w,v_b\n",
    "    if(algo == \"Nadam\"):\n",
    "        beta_1=0.9\n",
    "        beta_2=0.9\n",
    "        time = 0\n",
    "        lr = 0.0001\n",
    "        for i in range(self.no_hidden+1):\n",
    "            \n",
    "            self.m_w[i+1] = beta_1 * self.m_w[i+1] + (1 - beta_1) * (dW[i+1]/m)\n",
    "            self.m_b[i+1] = beta_1 * self.m_b[i+1] + (1 - beta_1) * (dB[i+1]/m)\n",
    "            v_w[i+1] = beta_2 * v_w[i+1] + (1 - beta_2) * ((dW[i+1]/m) ** 2 ) \n",
    "            v_b[i+1] = beta_2 * v_b[i+1] + (1 - beta_2) * ((dB[i+1]/m) ** 2 )\n",
    "            self.m_w_hat[i+1] = self.m_w[i+1] / (1 - np.power(beta_1, time+1))\n",
    "            self.m_b_hat[i+1] = self.m_b[i+1] / (1 - np.power(beta_1, time+1))\n",
    "            self.v_w_hat[i+1] = v_w[i+1] / (1 - np.power(beta_2, time+1))\n",
    "            self.v_b_hat[i+1] = v_b[i+1] / (1 - np.power(beta_2, time+1))\n",
    "            self.W[i+1] -= ((lr/np.sqrt(self.v_w_hat[i+1] + epsilon)) * (beta_1 * self.m_w_hat[i+1] + (1- beta_1)*(dW[i+1]/m)/(1 - np.power(beta_1 ,time+1))))\n",
    "            self.B[i+1] -= ((lr/np.sqrt(self.v_b_hat[i+1] + epsilon)) * (beta_1 * self.m_b_hat[i+1] + (1- beta_1)*(dB[i+1]/m)/(1 - np.power(beta_1 ,time+1))))\n",
    "            time += 1\n",
    "            \n",
    "        return v_w,v_b   \n",
    "  def show_loss(self,loss):\n",
    "      plt.plot(np.array(list(loss.values())).astype(float))\n",
    "      plt.xlabel('Epochs')\n",
    "      plt.ylabel('CE')\n",
    "      plt.show()"
   ]
  },
  {
   "cell_type": "code",
   "execution_count": 13,
   "id": "e5975a26",
   "metadata": {},
   "outputs": [
    {
     "name": "stdout",
     "output_type": "stream",
     "text": [
      "(60000, 28, 28)\n",
      "(10000, 28, 28)\n"
     ]
    }
   ],
   "source": [
    "#(X_train, Y_train), (X_test, Y_test) = fashion_mnist.load_data()\n",
    "(X_train, Y_train), (X_test, Y_test) = mnist.load_data()\n",
    "train_data = np.array(X_train)\n",
    "X_train = train_data / 255.0\n",
    "test_data = np.array(X_test)\n",
    "X_test = test_data / 255.0\n",
    "\n",
    "print(train_data.shape)\n",
    "print(test_data.shape)\n",
    "\n",
    "encoder = OneHotEncoder()\n",
    "\n",
    "X_train_len = int(len(X_train) * 0.9)\n",
    "X1_train = X_train[0:X_train_len]\n",
    "X2_train_validation = X_train[X_train_len:len(X_train)]\n",
    "Y_train_len = int(len(Y_train) * 0.9)\n",
    "Y1_train = Y_train[0:Y_train_len]\n",
    "Y2_train_validation = Y_train[Y_train_len:len(Y_train)]\n",
    "\n",
    "y_train = encoder.fit_transform(np.expand_dims(Y1_train,1)).toarray()\n",
    "y_train_validation = encoder.fit_transform(np.expand_dims(Y2_train_validation,1)).toarray()\n",
    "y_test = encoder.fit_transform(np.expand_dims(Y_test,1)).toarray()\n"
   ]
  },
  {
   "cell_type": "code",
   "execution_count": 29,
   "id": "62924ef9",
   "metadata": {},
   "outputs": [
    {
     "data": {
      "text/plain": [
       "'\\nffsnn = FFSN_MultiClass(784, [32,32,32], 10)\\nenc = OneHotEncoder()\\nffsnn.fit(X1_train, y_train, epochs=20, learning_rate=.005, batch_size = 32 ,batch = \\'m_B\\',algorithm = \"Nadam\",act_func = \"sigmoid\", intialize_method = \"xavier\")\\n'"
      ]
     },
     "execution_count": 29,
     "metadata": {},
     "output_type": "execute_result"
    }
   ],
   "source": [
    "\"\"\"\n",
    "ffsnn = FFSN_MultiClass(784, [32,32,32], 10)\n",
    "enc = OneHotEncoder()\n",
    "ffsnn.fit(X1_train, y_train, epochs=20, learning_rate=.005, batch_size = 32 ,batch = 'm_B',algorithm = \"Nadam\",act_func = \"sigmoid\", intialize_method = \"xavier\")\n",
    "\"\"\""
   ]
  },
  {
   "cell_type": "code",
   "execution_count": 26,
   "id": "8d944a4b",
   "metadata": {},
   "outputs": [
    {
     "name": "stdout",
     "output_type": "stream",
     "text": [
      "Training accuracy 0.87\n",
      "Validation accuracy 0.85\n"
     ]
    }
   ],
   "source": [
    "\"\"\"\n",
    "Y_pred_train = ffsnn.predict(X1_train)\n",
    "Y_pred_train = np.argmax(Y_pred_train,1)\n",
    "\n",
    "Y_pred_val1 = ffsnn.predict(X2_train_validation)\n",
    "Y_pred_val1 = np.argmax(Y_pred_val1,1)\n",
    "\n",
    "#Y_pred_val = ffsnn.predict(X_test)\n",
    "#Y_pred_val = np.argmax(Y_pred_val,1)\n",
    "\n",
    "accuracy_train = accuracy_score(Y_pred_train, Y1_train)\n",
    "accuracy_val = accuracy_score(Y_pred_val1, Y2_train_validation)\n",
    "\n",
    "print(\"Training accuracy\", round(accuracy_train, 2))\n",
    "print(\"Validation accuracy\", round(accuracy_val, 2))\n",
    "\"\"\""
   ]
  },
  {
   "cell_type": "code",
   "execution_count": 10,
   "id": "1dfe511a",
   "metadata": {},
   "outputs": [
    {
     "name": "stderr",
     "output_type": "stream",
     "text": [
      "\u001b[34m\u001b[1mwandb\u001b[0m: \u001b[33mWARNING\u001b[0m Calling wandb.login() after wandb.init() has no effect.\n"
     ]
    },
    {
     "name": "stdout",
     "output_type": "stream",
     "text": [
      "Note: you may need to restart the kernel to use updated packages.\n"
     ]
    },
    {
     "data": {
      "text/html": [
       "Changes to your `wandb` environment variables will be ignored because your `wandb` session has already started. For more information on how to modify your settings with `wandb.init()` arguments, please refer to <a href='https://wandb.me/wandb-init' target=\"_blank\">the W&B docs</a>."
      ],
      "text/plain": [
       "<IPython.core.display.HTML object>"
      ]
     },
     "metadata": {},
     "output_type": "display_data"
    },
    {
     "data": {
      "text/html": [
       "Finishing last run (ID:3zgvt4mt) before initializing another..."
      ],
      "text/plain": [
       "<IPython.core.display.HTML object>"
      ]
     },
     "metadata": {},
     "output_type": "display_data"
    },
    {
     "data": {
      "text/html": [
       "Waiting for W&B process to finish... <strong style=\"color:green\">(success).</strong>"
      ],
      "text/plain": [
       "<IPython.core.display.HTML object>"
      ]
     },
     "metadata": {},
     "output_type": "display_data"
    },
    {
     "data": {
      "text/html": [
       "<style>\n",
       "    table.wandb td:nth-child(1) { padding: 0 10px; text-align: left ; width: auto;} td:nth-child(2) {text-align: left ; width: 100%}\n",
       "    .wandb-row { display: flex; flex-direction: row; flex-wrap: wrap; justify-content: flex-start; width: 100% }\n",
       "    .wandb-col { display: flex; flex-direction: column; flex-basis: 100%; flex: 1; padding: 10px; }\n",
       "    </style>\n",
       "<div class=\"wandb-row\"><div class=\"wandb-col\"><h3>Run history:</h3><br/><table class=\"wandb\"><tr><td>Training accuracys</td><td>▁</td></tr><tr><td>Validation accuracy</td><td>▁</td></tr><tr><td>epoch</td><td>▁▁▁▁▁</td></tr><tr><td>loss</td><td>█▄▂▁▁</td></tr></table><br/></div><div class=\"wandb-col\"><h3>Run summary:</h3><br/><table class=\"wandb\"><tr><td>Training accuracys</td><td>0.76</td></tr><tr><td>Validation accuracy</td><td>0.76</td></tr><tr><td>epoch</td><td>5</td></tr><tr><td>loss</td><td>0.66509</td></tr></table><br/></div></div>"
      ],
      "text/plain": [
       "<IPython.core.display.HTML object>"
      ]
     },
     "metadata": {},
     "output_type": "display_data"
    },
    {
     "data": {
      "text/html": [
       " View run <strong style=\"color:#cdcd00\">royal-surf-93</strong> at: <a href='https://wandb.ai/cs6910_susmit/assignment1_CS910/runs/3zgvt4mt' target=\"_blank\">https://wandb.ai/cs6910_susmit/assignment1_CS910/runs/3zgvt4mt</a><br/>Synced 6 W&B file(s), 1 media file(s), 0 artifact file(s) and 0 other file(s)"
      ],
      "text/plain": [
       "<IPython.core.display.HTML object>"
      ]
     },
     "metadata": {},
     "output_type": "display_data"
    },
    {
     "data": {
      "text/html": [
       "Find logs at: <code>.\\wandb\\run-20230318_160642-3zgvt4mt\\logs</code>"
      ],
      "text/plain": [
       "<IPython.core.display.HTML object>"
      ]
     },
     "metadata": {},
     "output_type": "display_data"
    },
    {
     "data": {
      "text/html": [
       "Successfully finished last run (ID:3zgvt4mt). Initializing new run:<br/>"
      ],
      "text/plain": [
       "<IPython.core.display.HTML object>"
      ]
     },
     "metadata": {},
     "output_type": "display_data"
    },
    {
     "data": {
      "application/vnd.jupyter.widget-view+json": {
       "model_id": "6e6335af31154fc986a03082bc90b91d",
       "version_major": 2,
       "version_minor": 0
      },
      "text/plain": [
       "VBox(children=(Label(value='Waiting for wandb.init()...\\r'), FloatProgress(value=0.016916666666414434, max=1.0…"
      ]
     },
     "metadata": {},
     "output_type": "display_data"
    },
    {
     "data": {
      "text/html": [
       "wandb version 0.14.0 is available!  To upgrade, please run:\n",
       " $ pip install wandb --upgrade"
      ],
      "text/plain": [
       "<IPython.core.display.HTML object>"
      ]
     },
     "metadata": {},
     "output_type": "display_data"
    },
    {
     "data": {
      "text/html": [
       "Tracking run with wandb version 0.13.10"
      ],
      "text/plain": [
       "<IPython.core.display.HTML object>"
      ]
     },
     "metadata": {},
     "output_type": "display_data"
    },
    {
     "data": {
      "text/html": [
       "Run data is saved locally in <code>C:\\Users\\susmi\\wandb\\run-20230318_161959-z1trzl0z</code>"
      ],
      "text/plain": [
       "<IPython.core.display.HTML object>"
      ]
     },
     "metadata": {},
     "output_type": "display_data"
    },
    {
     "data": {
      "text/html": [
       "Syncing run <strong><a href='https://wandb.ai/cs6910_susmit/assignment1_CS910/runs/z1trzl0z' target=\"_blank\">woven-firebrand-94</a></strong> to <a href='https://wandb.ai/cs6910_susmit/assignment1_CS910' target=\"_blank\">Weights & Biases</a> (<a href='https://wandb.me/run' target=\"_blank\">docs</a>)<br/>"
      ],
      "text/plain": [
       "<IPython.core.display.HTML object>"
      ]
     },
     "metadata": {},
     "output_type": "display_data"
    },
    {
     "data": {
      "text/html": [
       " View project at <a href='https://wandb.ai/cs6910_susmit/assignment1_CS910' target=\"_blank\">https://wandb.ai/cs6910_susmit/assignment1_CS910</a>"
      ],
      "text/plain": [
       "<IPython.core.display.HTML object>"
      ]
     },
     "metadata": {},
     "output_type": "display_data"
    },
    {
     "data": {
      "text/html": [
       " View run at <a href='https://wandb.ai/cs6910_susmit/assignment1_CS910/runs/z1trzl0z' target=\"_blank\">https://wandb.ai/cs6910_susmit/assignment1_CS910/runs/z1trzl0z</a>"
      ],
      "text/plain": [
       "<IPython.core.display.HTML object>"
      ]
     },
     "metadata": {},
     "output_type": "display_data"
    },
    {
     "name": "stdout",
     "output_type": "stream",
     "text": [
      "1\n",
      "2\n",
      "3\n",
      "4\n",
      "5\n",
      "6\n",
      "7\n",
      "8\n",
      "9\n",
      "10\n"
     ]
    },
    {
     "data": {
      "text/html": [
       "Waiting for W&B process to finish... <strong style=\"color:green\">(success).</strong>"
      ],
      "text/plain": [
       "<IPython.core.display.HTML object>"
      ]
     },
     "metadata": {},
     "output_type": "display_data"
    },
    {
     "data": {
      "text/html": [
       " View run <strong style=\"color:#cdcd00\">woven-firebrand-94</strong> at: <a href='https://wandb.ai/cs6910_susmit/assignment1_CS910/runs/z1trzl0z' target=\"_blank\">https://wandb.ai/cs6910_susmit/assignment1_CS910/runs/z1trzl0z</a><br/>Synced 6 W&B file(s), 10 media file(s), 0 artifact file(s) and 0 other file(s)"
      ],
      "text/plain": [
       "<IPython.core.display.HTML object>"
      ]
     },
     "metadata": {},
     "output_type": "display_data"
    },
    {
     "data": {
      "text/html": [
       "Find logs at: <code>.\\wandb\\run-20230318_161959-z1trzl0z\\logs</code>"
      ],
      "text/plain": [
       "<IPython.core.display.HTML object>"
      ]
     },
     "metadata": {},
     "output_type": "display_data"
    },
    {
     "data": {
      "image/png": "[encoded data removed]",
      "text/plain": [
       "<Figure size 432x288 with 10 Axes>"
      ]
     },
     "metadata": {
      "needs_background": "light"
     },
     "output_type": "display_data"
    }
   ],
   "source": [
    "                              \"\"\"  Question 1 \"\"\"\n",
    "#configuring wandb\n",
    "%pip install wandb -q\n",
    "import wandb\n",
    "wandb.login()\n",
    "\n",
    "wandb.init(project=\"assignment1_CS910\")\n",
    "\n",
    "\n",
    "image_array=[]\n",
    "dress=[\"T-shirt/top\", \"Trouser\",\"Pullover\", \"Dress\", \"Coat\", \"Sandal\", \"Shirt\", \"Sneaker\", \"Bag\",\"Ankle boot\"]\n",
    "\n",
    "#creating an array of images from the xtrain array where 1 image for each array is appended\n",
    "flag = 1\n",
    "for i in range(0,10,1):\n",
    "  for j in range(0,len(Y_train),1):\n",
    "    if Y_train[j]==i and flag:\n",
    "      image_array.append(X_train[j])\n",
    "      break;\n",
    "#printing the images of the array cerated \n",
    "\n",
    "dress_number = 0\n",
    "for i in range(0,len(image_array),1):\n",
    "  plt.subplot(2,5,i+1)\n",
    "  print(i+1)  \n",
    "  plt.imshow(image_array[i])\n",
    "  dress_number = dress[i]  \n",
    "  plt.title(dress[i])\n",
    "wandb.run.name=\"Question-1\"\n",
    "wandb.log({\"Images\":[wandb.Image(img,caption=item) for img,item in zip(image_array,dress)]})\n",
    "wandb.finish()"
   ]
  },
  {
   "cell_type": "code",
   "execution_count": null,
   "id": "fb5d3881",
   "metadata": {},
   "outputs": [],
   "source": []
  },
  {
   "cell_type": "code",
   "execution_count": 4,
   "id": "d951ae1b",
   "metadata": {},
   "outputs": [
    {
     "name": "stdout",
     "output_type": "stream",
     "text": [
      "Create sweep with ID: 6bb6jf8c\n",
      "Sweep URL: https://wandb.ai/cs6910_susmit/assignment1_CS910/sweeps/6bb6jf8c\n"
     ]
    }
   ],
   "source": [
    "\"\"\"\n",
    "class_names = ['T-shirt/top', 'Trouser', 'Pullover', 'Dress', 'Coat',\n",
    "               'Sandal', 'Shirt', 'Sneaker', 'Bag', 'Ankle boot']\n",
    "\n",
    "\"\"\"\n",
    "\"\"\"    Question 4     \"\"\"\n",
    "sweep_config = {\n",
    "    'method': 'random', #grid, random\n",
    "    'metric': {\n",
    "      'name': 'val_accuracy',\n",
    "      'goal': 'maximize' \n",
    "    },\n",
    "    'parameters': {\n",
    "        'epochs': {\n",
    "            'values': [10,20,40,50]\n",
    "        },\n",
    "        'learning_rate': {\n",
    "            'values': [1e-2,1e-3,(1e-3) * 5]\n",
    "        },\n",
    "        'algorithm': {\n",
    "            'values': ['gd','momentum','NAG', 'RMSProp','Adam','Nadam']\n",
    "        },\n",
    "        'act_func': {\n",
    "            'values': ['relu','tanh','sigmoid']\n",
    "        },\n",
    "        'hidden_layer': {\n",
    "            'values': [[32,32,32],[64,64,64],[16,16,16],[128,128,128]]\n",
    "        },\n",
    "        'batch_size':{\n",
    "            'values':[32,64,128]\n",
    "        },\n",
    "        \n",
    "        'loss_function':{\n",
    "            'values':['cross_entropy','sqaure_error_loss']\n",
    "        },\n",
    "        \n",
    "        'initilisation':{\n",
    "            'values':['xavier','random']\n",
    "        },\n",
    "        'batch':{\n",
    "            'values':['b','m_B','s']    \n",
    "        }\n",
    "    }\n",
    "}\n",
    "sweep_id = wandb.sweep(sweep_config, project=\"assignment1_CS910\")"
   ]
  },
  {
   "cell_type": "code",
   "execution_count": 23,
   "id": "2b66a245",
   "metadata": {},
   "outputs": [
    {
     "data": {
      "text/html": [
       "Changes to your `wandb` environment variables will be ignored because your `wandb` session has already started. For more information on how to modify your settings with `wandb.init()` arguments, please refer to <a href='https://wandb.me/wandb-init' target=\"_blank\">the W&B docs</a>."
      ],
      "text/plain": [
       "<IPython.core.display.HTML object>"
      ]
     },
     "metadata": {},
     "output_type": "display_data"
    },
    {
     "data": {
      "text/html": [
       "Finishing last run (ID:iahu1qhf) before initializing another..."
      ],
      "text/plain": [
       "<IPython.core.display.HTML object>"
      ]
     },
     "metadata": {},
     "output_type": "display_data"
    },
    {
     "data": {
      "text/html": [
       "Waiting for W&B process to finish... <strong style=\"color:green\">(success).</strong>"
      ],
      "text/plain": [
       "<IPython.core.display.HTML object>"
      ]
     },
     "metadata": {},
     "output_type": "display_data"
    },
    {
     "data": {
      "application/vnd.jupyter.widget-view+json": {
       "model_id": "4958a2eabe8b4312b2163e50163d8003",
       "version_major": 2,
       "version_minor": 0
      },
      "text/plain": [
       "VBox(children=(Label(value='0.001 MB of 0.001 MB uploaded (0.000 MB deduped)\\r'), FloatProgress(value=1.0, max…"
      ]
     },
     "metadata": {},
     "output_type": "display_data"
    },
    {
     "data": {
      "text/html": [
       "<style>\n",
       "    table.wandb td:nth-child(1) { padding: 0 10px; text-align: left ; width: auto;} td:nth-child(2) {text-align: left ; width: 100%}\n",
       "    .wandb-row { display: flex; flex-direction: row; flex-wrap: wrap; justify-content: flex-start; width: 100% }\n",
       "    .wandb-col { display: flex; flex-direction: column; flex-basis: 100%; flex: 1; padding: 10px; }\n",
       "    </style>\n",
       "<div class=\"wandb-row\"><div class=\"wandb-col\"><h3>Run history:</h3><br/><table class=\"wandb\"><tr><td>Training accuracys</td><td>▁</td></tr><tr><td>Validation accuracy</td><td>▁</td></tr><tr><td>epoch</td><td>▁▁▁▁▁▁▁▁▁▁</td></tr><tr><td>loss</td><td>█▄▃▂▂▂▁▁▁▁</td></tr></table><br/></div><div class=\"wandb-col\"><h3>Run summary:</h3><br/><table class=\"wandb\"><tr><td>Training accuracys</td><td>0.93</td></tr><tr><td>Validation accuracy</td><td>0.94</td></tr><tr><td>epoch</td><td>10</td></tr><tr><td>loss</td><td>0.24407</td></tr></table><br/></div></div>"
      ],
      "text/plain": [
       "<IPython.core.display.HTML object>"
      ]
     },
     "metadata": {},
     "output_type": "display_data"
    },
    {
     "data": {
      "text/html": [
       " View run <strong style=\"color:#cdcd00\">pious-totem-100</strong> at: <a href='https://wandb.ai/cs6910_susmit/assignment1_CS910/runs/iahu1qhf' target=\"_blank\">https://wandb.ai/cs6910_susmit/assignment1_CS910/runs/iahu1qhf</a><br/>Synced 6 W&B file(s), 0 media file(s), 0 artifact file(s) and 0 other file(s)"
      ],
      "text/plain": [
       "<IPython.core.display.HTML object>"
      ]
     },
     "metadata": {},
     "output_type": "display_data"
    },
    {
     "data": {
      "text/html": [
       "Find logs at: <code>.\\wandb\\run-20230318_202142-iahu1qhf\\logs</code>"
      ],
      "text/plain": [
       "<IPython.core.display.HTML object>"
      ]
     },
     "metadata": {},
     "output_type": "display_data"
    },
    {
     "data": {
      "text/html": [
       "Successfully finished last run (ID:iahu1qhf). Initializing new run:<br/>"
      ],
      "text/plain": [
       "<IPython.core.display.HTML object>"
      ]
     },
     "metadata": {},
     "output_type": "display_data"
    },
    {
     "data": {
      "application/vnd.jupyter.widget-view+json": {
       "model_id": "d66d451c3c854e738fc8dd37f7c4ecb0",
       "version_major": 2,
       "version_minor": 0
      },
      "text/plain": [
       "VBox(children=(Label(value='Waiting for wandb.init()...\\r'), FloatProgress(value=0.016666666666666666, max=1.0…"
      ]
     },
     "metadata": {},
     "output_type": "display_data"
    },
    {
     "data": {
      "text/html": [
       "wandb version 0.14.0 is available!  To upgrade, please run:\n",
       " $ pip install wandb --upgrade"
      ],
      "text/plain": [
       "<IPython.core.display.HTML object>"
      ]
     },
     "metadata": {},
     "output_type": "display_data"
    },
    {
     "data": {
      "text/html": [
       "Tracking run with wandb version 0.13.10"
      ],
      "text/plain": [
       "<IPython.core.display.HTML object>"
      ]
     },
     "metadata": {},
     "output_type": "display_data"
    },
    {
     "data": {
      "text/html": [
       "Run data is saved locally in <code>C:\\Users\\susmi\\wandb\\run-20230318_202748-2520rkxx</code>"
      ],
      "text/plain": [
       "<IPython.core.display.HTML object>"
      ]
     },
     "metadata": {},
     "output_type": "display_data"
    },
    {
     "data": {
      "text/html": [
       "Syncing run <strong><a href='https://wandb.ai/cs6910_susmit/assignment1_CS910/runs/2520rkxx' target=\"_blank\">clean-wood-101</a></strong> to <a href='https://wandb.ai/cs6910_susmit/assignment1_CS910' target=\"_blank\">Weights & Biases</a> (<a href='https://wandb.me/run' target=\"_blank\">docs</a>)<br/>"
      ],
      "text/plain": [
       "<IPython.core.display.HTML object>"
      ]
     },
     "metadata": {},
     "output_type": "display_data"
    },
    {
     "data": {
      "text/html": [
       " View project at <a href='https://wandb.ai/cs6910_susmit/assignment1_CS910' target=\"_blank\">https://wandb.ai/cs6910_susmit/assignment1_CS910</a>"
      ],
      "text/plain": [
       "<IPython.core.display.HTML object>"
      ]
     },
     "metadata": {},
     "output_type": "display_data"
    },
    {
     "data": {
      "text/html": [
       " View run at <a href='https://wandb.ai/cs6910_susmit/assignment1_CS910/runs/2520rkxx' target=\"_blank\">https://wandb.ai/cs6910_susmit/assignment1_CS910/runs/2520rkxx</a>"
      ],
      "text/plain": [
       "<IPython.core.display.HTML object>"
      ]
     },
     "metadata": {},
     "output_type": "display_data"
    },
    {
     "name": "stderr",
     "output_type": "stream",
     "text": [
      "C:\\Users\\susmi\\AppData\\Local\\Temp\\ipykernel_3676\\1979313925.py:160: TqdmDeprecationWarning: This function will be removed in tqdm==5.0.0\n",
      "Please use `tqdm.notebook.tqdm` instead of `tqdm.tqdm_notebook`\n",
      "  for epoch in tqdm_notebook(range(epochs), total=epochs, unit=\"epoch\"):\n"
     ]
    },
    {
     "data": {
      "application/vnd.jupyter.widget-view+json": {
       "model_id": "14d790a7b9234387ae83e8a2974b19dd",
       "version_major": 2,
       "version_minor": 0
      },
      "text/plain": [
       "  0%|          | 0/10 [00:00<?, ?epoch/s]"
      ]
     },
     "metadata": {},
     "output_type": "display_data"
    },
    {
     "data": {
      "image/png": "[encoded data removed]",
      "text/plain": [
       "<Figure size 432x288 with 1 Axes>"
      ]
     },
     "metadata": {
      "needs_background": "light"
     },
     "output_type": "display_data"
    },
    {
     "name": "stdout",
     "output_type": "stream",
     "text": [
      "[[5.34572531e-03 1.84619786e-04 1.74796019e-03 3.57286742e-01\n",
      "  5.70343016e-06 6.30913655e-01 2.91192220e-05 1.12686796e-03\n",
      "  9.11084599e-04 2.44852176e-03]]\n",
      "Training accuracy 0.92\n",
      "Validation accuracy 0.93\n",
      "Test accuracy 0.92\n"
     ]
    },
    {
     "data": {
      "text/plain": [
       "' For automatic sweeps '"
      ]
     },
     "execution_count": 23,
     "metadata": {},
     "output_type": "execute_result"
    },
    {
     "data": {
      "image/png": "[encoded data removed]",
      "text/plain": [
       "<Figure size 2880x1440 with 2 Axes>"
      ]
     },
     "metadata": {
      "needs_background": "light"
     },
     "output_type": "display_data"
    }
   ],
   "source": [
    "def train():\n",
    "    #steps = 10\n",
    "    # Default values for hyper-parameters we're going to sweep over\n",
    "    config_defaults = {\n",
    "        'epochs': 20,\n",
    "        'input_layer': 28*28,\n",
    "        'output_layer': 10,\n",
    "        'batch_size':32,\n",
    "        'learning_rate': 1e-3 + 5,\n",
    "        'hidden_layer':[128,128,128],\n",
    "        'learning_rate':(1e-3)*5,\n",
    "        'algorithm':'Nadam',\n",
    "        'batch':'m_B',\n",
    "        'act_func':'tanh',\n",
    "        'intialize_method':'xavier',\n",
    "        'loss_function':'cross_entropy'\n",
    "        \n",
    "    }\n",
    "\n",
    "    # Initialize a new wandb run\n",
    "    wandb.init(project=\"assignment1_CS910\",config=config_defaults)\n",
    "    \n",
    "    \n",
    "    # Config is a variable that holds and saves hyperparameters and inputs\n",
    "    #config = wandb.config_defaults\n",
    "    config = wandb.config\n",
    "    learning_rate = config.learning_rate\n",
    "    epochs = config.epochs\n",
    "    hidden_layer = config.hidden_layer\n",
    "    act_func = config.act_func\n",
    "    algorithm = config.algorithm\n",
    "    input_layer = config.input_layer\n",
    "    output_layer = config.output_layer\n",
    "    batch_size = config.batch_size\n",
    "    batch = config.batch\n",
    "    loss_function = config.loss_function\n",
    "    intialize_method = config.intialize_method\n",
    "\n",
    "    # Model training here\n",
    "    ffsnn = MultiClass_classification(784, [32,32,32], 10)\n",
    "    enc = OneHotEncoder()\n",
    "    ffsnn.fit(X1_train, y_train, epochs=10, learning_rate=0.005, batch_size = 32 ,batch = 'm_B',algorithm = \"Nadam\",act_func = \"tanh\", intialize_method = \"xavier\",loss_type = \"cross_entropy\",l2_norm = False)\n",
    "    \n",
    "    \"\"\" Question 2 \"\"\"\n",
    "    \n",
    "    print(ffsnn.forward_pass(X_train[0]))\n",
    "    Y_pred_train = ffsnn.predict(X1_train)\n",
    "    Y_pred_train = np.argmax(Y_pred_train,1)\n",
    "\n",
    "    Y_pred_val1 = ffsnn.predict(X2_train_validation)\n",
    "    Y_pred_val1 = np.argmax(Y_pred_val1,1)\n",
    "\n",
    "    Y_pred_val = ffsnn.predict(X_test)\n",
    "    Y_pred_val = np.argmax(Y_pred_val,1)\n",
    "\n",
    "    accuracy_train = accuracy_score(Y_pred_train, Y1_train)\n",
    "    accuracy_val = accuracy_score(Y_pred_val1, Y2_train_validation)\n",
    "    accuracy_test = accuracy_score(Y_pred_val, Y_test)\n",
    "    print(\"Training accuracy\", round(accuracy_train, 2))\n",
    "    print(\"Validation accuracy\", round(accuracy_val, 2))\n",
    "    print(\"Test accuracy\", round(accuracy_test, 2))\n",
    "    wandb.log({\"Training accuracys\": round(accuracy_train, 2) , \"Validation accuracy\": round(accuracy_val, 2)})\n",
    "    \n",
    "    \n",
    "    # Confusion matrix  \"\"\"    Question 7     \"\"\"\n",
    "    \n",
    "    class_names = ['T-shirt/top', 'Trouser', 'Pullover', 'Dress', 'Coat',\n",
    "               'Sandal', 'Shirt', 'Sneaker', 'Bag', 'Ankle boot']\n",
    "\n",
    "    from sklearn.metrics import confusion_matrix\n",
    "    import seaborn as sns\n",
    "    import matplotlib.pyplot as plt\n",
    "    #accuracy, test_predicted = model.predict(X_test,y_test)\n",
    "    bern_cnf_matrix_train = confusion_matrix(Y_test, Y_pred_val, normalize='true')\n",
    "    plt.figure(figsize=(40,20))\n",
    "    ax = sns.heatmap(bern_cnf_matrix_train, annot=bern_cnf_matrix_train,xticklabels=class_names, yticklabels=class_names)\n",
    "    ax.set_title(\"Confusion Matrix (Test set)\", size=12)\n",
    "    ax.set_xlabel(\"Predicted label\", size=12)\n",
    "    ax.set_ylabel(\"True label\", size=12)\n",
    "    plt.savefig(\"Test_confusionmatrix\")\n",
    "    # Load the confusion matrix images\n",
    "    img1 = plt.imread(\"Test_confusionmatrix.png\")\n",
    "\n",
    "    #print(\"Test accuracy \",accuracy_test)\n",
    "    # Log images of the confusion matrices\n",
    "    \n",
    "    \n",
    "    \n",
    "    #wandb.log({\"Confusion Matrix - Test set\": wandb.Image(img1)})\n",
    "    \n",
    "    \n",
    " \n",
    "train() \n",
    "\n",
    "\"\"\" For automatic sweeps \"\"\"\n",
    "\n",
    "#wandb.agent(sweep_id, train, count=1)    "
   ]
  },
  {
   "cell_type": "code",
   "execution_count": 8,
   "id": "ab59a698",
   "metadata": {},
   "outputs": [
    {
     "name": "stdout",
     "output_type": "stream",
     "text": [
      "[34, 45, 67]\n"
     ]
    }
   ],
   "source": [
    " "
   ]
  }
 ],
 "metadata": {
  "kernelspec": {
   "display_name": "Python 3 (ipykernel)",
   "language": "python",
   "name": "python3"
  },
  "language_info": {
   "codemirror_mode": {
    "name": "ipython",
    "version": 3
   },
   "file_extension": ".py",
   "mimetype": "text/x-python",
   "name": "python",
   "nbconvert_exporter": "python",
   "pygments_lexer": "ipython3",
   "version": "3.9.12"
  }
 },
 "nbformat": 4,
 "nbformat_minor": 5
}
